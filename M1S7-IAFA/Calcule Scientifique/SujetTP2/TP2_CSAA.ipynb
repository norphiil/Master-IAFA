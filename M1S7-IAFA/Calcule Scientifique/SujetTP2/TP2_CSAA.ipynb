{
 "cells": [
  {
   "cell_type": "markdown",
   "id": "contained-community",
   "metadata": {},
   "source": [
    "# TP2 - Reconnaissance de chiffres manuscrits par $k$ plus proches voisins\n",
    "\n",
    "L'objectif de ce TP est de reconnaître des chiffres manuscrits d'une base de test à partir d'une base d'apprentissage et de la méthode des $k$ plus proches voisins. \n",
    "La base de données du MNIST{\\footnote{http://yann.lecun.com/exdb/mnist/}} sur les chiffres manuscrits comprend un ensemble de 60 000 exemples d'apprentissage (*database_train_images*) et un ensemble de 10 000 exemples de test (*database_test_images*).  Les chiffres, dont quelques exemples sont représentés sur la figure ci-dessous, ont été normalisés et centrés dans une image de taille fixe $28\\times 28$ pixels. \n",
    "\n",
    "<img src=\"files/MNIST.PNG\" width=\"600\" height=\"400\"  >\n",
    "\n",
    "\n",
    "\n",
    "\n",
    "Chaque image est considérée comme un vecteur 1D de $28\\times 28=784$ coordonnées. On fournit les labels des ensembles d'apprentissage (*y_train*) et de test \n",
    "(*y_test*)."
   ]
  },
  {
   "cell_type": "code",
   "execution_count": 52,
   "id": "brutal-increase",
   "metadata": {},
   "outputs": [],
   "source": [
    "import matplotlib.pyplot as plt\n",
    "import numpy as np\n",
    "import sklearn\n",
    "import pandas as pd\n",
    "import math\n",
    "import scipy as sc\n",
    "import statistics\n",
    "from statistics import mode\n",
    "from sklearn.metrics.pairwise import euclidean_distances"
   ]
  },
  {
   "cell_type": "markdown",
   "id": "occupied-planet",
   "metadata": {},
   "source": [
    "### Chargement de la base de données MNIST\n",
    "\n",
    "Lien du dataset des chiffres manuscrits :\n",
    "http://yann.lecun.com/exdb/mnist/"
   ]
  },
  {
   "cell_type": "code",
   "execution_count": 53,
   "id": "3abcfcc4",
   "metadata": {},
   "outputs": [
    {
     "name": "stdout",
     "output_type": "stream",
     "text": [
      "DataApp: (60000, 784)\n",
      "LabelApp: (60000,)\n",
      "DataTest:  (10000, 784)\n",
      "LabelTest:  (10000,)\n"
     ]
    }
   ],
   "source": [
    "from sklearn.datasets import fetch_openml\n",
    "mnist = fetch_openml(\"mnist_784\")\n",
    "\n",
    "X, y = mnist[\"data\"], mnist[\"target\"]\n",
    "\n",
    "DataApp , DataTest , LabelApp , LabelTest = X[:60000] , X[60000:] , y[:60000] , y[60000:]\n",
    "\n",
    "print('DataApp: ' + str(DataApp.shape))\n",
    "print('LabelApp: ' + str(LabelApp.shape))\n",
    "print('DataTest:  ' + str(DataTest.shape))\n",
    "print('LabelTest:  '  + str(LabelTest.shape))\n",
    "\n",
    "# Conversion en matrices\n",
    "DataApp=np.asarray(DataApp)\n",
    "DataTest=np.asarray(DataTest)\n",
    "LabelApp=np.asarray(LabelApp)\n",
    "LabelTest=np.asarray(LabelTest)"
   ]
  },
  {
   "cell_type": "code",
   "execution_count": 54,
   "id": "13456dfe",
   "metadata": {},
   "outputs": [
    {
     "data": {
      "image/png": "[encoded data removed]",
      "text/plain": [
       "<Figure size 640x480 with 1 Axes>"
      ]
     },
     "metadata": {},
     "output_type": "display_data"
    },
    {
     "name": "stdout",
     "output_type": "stream",
     "text": [
      "le label de cette image d'apprentissage est : 3\n"
     ]
    },
    {
     "data": {
      "image/png": "[encoded data removed]",
      "text/plain": [
       "<Figure size 640x480 with 1 Axes>"
      ]
     },
     "metadata": {},
     "output_type": "display_data"
    },
    {
     "name": "stdout",
     "output_type": "stream",
     "text": [
      "le label de cette image de test est : 8\n"
     ]
    }
   ],
   "source": [
    "# Affichage d'images de ce jeu de données : \n",
    "\n",
    "# on affiche une donnée image de X_train et X_test :\n",
    "NumImageTrain=12345 # à choisir entre 0 et 59999\n",
    "Exple1=DataApp[NumImageTrain,:]\n",
    "ImExple1=np.reshape(Exple1,[28,28])\n",
    "plt.imshow(ImExple1)\n",
    "plt.show()\n",
    "print(\"le label de cette image d'apprentissage est :\", LabelApp[NumImageTrain])\n",
    "\n",
    "NumImageTest=1234 # à choisir entre 0 et 9999\n",
    "Exple2=DataTest[NumImageTest,:]\n",
    "ImExple2=np.reshape(Exple2,[28,28])\n",
    "plt.imshow(ImExple2)\n",
    "plt.show()\n",
    "print(\"le label de cette image de test est :\", LabelTest[NumImageTest])"
   ]
  },
  {
   "cell_type": "code",
   "execution_count": null,
   "id": "1dec1694",
   "metadata": {},
   "outputs": [],
   "source": []
  },
  {
   "cell_type": "markdown",
   "id": "flying-cream",
   "metadata": {},
   "source": [
    "## Exercice 1 : méthode des $k$ plus proches voisins\n",
    "\n",
    "En intelligence artificielle, la méthode des $k$ plus proches voisins  ($k$-ppv) est une méthode d'apprentissage supervisé. \n",
    "Dans ce cadre, on dispose d'une base de données d'apprentissage constituée de couples « donnée-label ». Pour estimer la sortie associée à une nouvelle entrée $x$, la méthode des $k$ plus proches voisins consiste à prendre en compte (de façon identique) les $k$ échantillons d'apprentissage dont l'entrée est la plus proche de la nouvelle entrée $x$, selon une distance à définir. L'algorithme  associé  et un exemple sont donnés par la suite.\n",
    "\n",
    "\n",
    "\n",
    "<img src=\"files/AlgoKppv.png\" width=\"900\" height=\"800\"  >\n",
    "\n",
    "<img src=\"files/kppv.png\" width=\"300\" height=\"300\"  >\n",
    "\n",
    "\n",
    "**Exemple de classification $k$-ppv:** L'échantillon de test (cercle vert) doit être classé soit dans la première classe des carrés bleus, soit dans la deuxième classe des triangles rouges. Si k = 3 (cercle plein), il est assigné à la deuxième classe parce qu'il y a 2 triangles et seulement 1 carré à l'intérieur du cercle intérieur. Si k = 5 (cercle en pointillés), il est assigné à la première classe (3 carrés contre 2 triangles à l'intérieur du cercle extérieur)"
   ]
  },
  {
   "cell_type": "markdown",
   "id": "suffering-forum",
   "metadata": {},
   "source": [
    "**Question :**\n",
    "En utilisant la distance euclidienne, complétez la fonction *kppv* permettant d'effectuer la classification par $k$-ppv sur un ensemble de test à partir d'un ensemble d'apprentissage et de leurs labels et en spécifiant le nombre $k$  voisins que l'on cherche.  \n",
    "\n"
   ]
  },
  {
   "cell_type": "markdown",
   "id": "70a98630",
   "metadata": {},
   "source": [
    "### Fonctions python intéressantes : \n",
    "Liste de fonctions (librairies) :\n",
    "\n",
    "- euclidean_distance (sklearn) \n",
    "- mode (scipy.stats) [à changer pour traiter le cas d'égalité]\n",
    "- argsort (numpy)\n"
   ]
  },
  {
   "cell_type": "code",
   "execution_count": 90,
   "id": "bigger-insulation",
   "metadata": {},
   "outputs": [],
   "source": [
    "def kppv(DataApp,DataTest,labelApp,K,Nt_test):\n",
    "\n",
    "    Na=DataApp.shape[0]\n",
    "    Nt=DataTest.shape[0]\n",
    "    \n",
    "    # Initialisation du vecteur d'etiquetage des images tests\n",
    "    Partition = np.zeros((Nt_test,1))\n",
    "    # Boucle sur les vecteurs test de l'ensemble de l'evaluation\n",
    "    for i in range(Nt_test):\n",
    "        \n",
    "        print('Image test n',i)\n",
    "\n",
    "        # Calcul des distances entre les vecteurs de test \n",
    "        # et les vecteurs d'apprentissage (voisins)\n",
    "        distances = []\n",
    "        for a in range(Na):\n",
    "            \n",
    "        #     distance = 0\n",
    "        #     for x in range(DataApp.shape[1]):\n",
    "        #         distance += math.pow(DataApp[a][x] - DataTest[i][x], 2)\n",
    "        #     distances.append(math.sqrt(distance))\n",
    "        \n",
    "            dist = (DataApp[a] - DataTest[i])**2\n",
    "            dist = np.sum(dist)\n",
    "            distances.append(np.sqrt(dist))\n",
    "\n",
    "\n",
    "        # On ne garde que les indices des K + proches voisins\n",
    "        voisins = np.argsort(distances)[:K]\n",
    "            \n",
    "        # Comptage du nombre de voisins appartenant a chaque classe\n",
    "        classes = []\n",
    "        for v in voisins:\n",
    "            classes.append(LabelApp[v])\n",
    "    \n",
    "        # Recherche de la classe contenant le maximum de voisins\n",
    "        max_voisins = mode(classes)\n",
    "        \n",
    "        # Si l'image test a le plus grand nombre de voisins dans plusieurs  \n",
    "        # classes differentes, alors on lui assigne celle du voisin le + proche,\n",
    "        # sinon on lui assigne l'unique classe contenant le plus de voisins \n",
    "        # A COMPLETER\n",
    "        \n",
    "        # Assignation de l'etiquette correspondant ‡ la classe trouvee au point \n",
    "        # correspondant a la i-eme image test dans le vecteur \"Partition\" \n",
    "        # A  COMPLETER\n",
    "        Partition[i] = max_voisins\n",
    "    \n",
    "    return Partition.astype('int').astype('str')\n"
   ]
  },
  {
   "cell_type": "code",
   "execution_count": 97,
   "id": "infectious-diving",
   "metadata": {},
   "outputs": [
    {
     "name": "stdout",
     "output_type": "stream",
     "text": [
      "100\n",
      "Image test n 0\n",
      "Image test n 1\n",
      "Image test n 2\n",
      "Image test n 3\n",
      "Image test n 4\n",
      "Image test n 5\n",
      "Image test n 6\n",
      "Image test n 7\n",
      "Image test n 8\n",
      "Image test n 9\n",
      "Image test n 10\n",
      "Image test n 11\n",
      "Image test n 12\n",
      "Image test n 13\n",
      "Image test n 14\n",
      "Image test n 15\n",
      "Image test n 16\n",
      "Image test n 17\n",
      "Image test n 18\n",
      "Image test n 19\n",
      "Image test n 20\n",
      "Image test n 21\n",
      "Image test n 22\n",
      "Image test n 23\n",
      "Image test n 24\n",
      "Image test n 25\n",
      "Image test n 26\n",
      "Image test n 27\n",
      "Image test n 28\n",
      "Image test n 29\n",
      "Image test n 30\n",
      "Image test n 31\n",
      "Image test n 32\n",
      "Image test n 33\n",
      "Image test n 34\n",
      "Image test n 35\n",
      "Image test n 36\n",
      "Image test n 37\n",
      "Image test n 38\n",
      "Image test n 39\n",
      "Image test n 40\n",
      "Image test n 41\n",
      "Image test n 42\n",
      "Image test n 43\n",
      "Image test n 44\n",
      "Image test n 45\n",
      "Image test n 46\n",
      "Image test n 47\n",
      "Image test n 48\n",
      "Image test n 49\n",
      "Image test n 50\n",
      "Image test n 51\n",
      "Image test n 52\n",
      "Image test n 53\n",
      "Image test n 54\n",
      "Image test n 55\n",
      "Image test n 56\n",
      "Image test n 57\n",
      "Image test n 58\n",
      "Image test n 59\n",
      "Image test n 60\n",
      "Image test n 61\n",
      "Image test n 62\n",
      "Image test n 63\n",
      "Image test n 64\n",
      "Image test n 65\n",
      "Image test n 66\n",
      "Image test n 67\n",
      "Image test n 68\n",
      "Image test n 69\n",
      "Image test n 70\n",
      "Image test n 71\n",
      "Image test n 72\n",
      "Image test n 73\n",
      "Image test n 74\n",
      "Image test n 75\n",
      "Image test n 76\n",
      "Image test n 77\n",
      "Image test n 78\n",
      "Image test n 79\n",
      "Image test n 80\n",
      "Image test n 81\n",
      "Image test n 82\n",
      "Image test n 83\n",
      "Image test n 84\n",
      "Image test n 85\n",
      "Image test n 86\n",
      "Image test n 87\n",
      "Image test n 88\n",
      "Image test n 89\n",
      "Image test n 90\n",
      "Image test n 91\n",
      "Image test n 92\n",
      "Image test n 93\n",
      "Image test n 94\n",
      "Image test n 95\n",
      "Image test n 96\n",
      "Image test n 97\n",
      "Image test n 98\n",
      "Image test n 99\n",
      "Resultat Kppv ['7' '2' '1' '0' '4' '1' '4' '9' '5' '9' '0' '6' '9' '0' '1' '5' '9' '7'\n",
      " '3' '4' '9' '6' '6' '5' '4' '0' '7' '4' '0' '1' '3' '1' '3' '4' '7' '2'\n",
      " '7' '1' '2' '1' '1' '7' '4' '2' '3' '5' '1' '2' '4' '4' '6' '3' '5' '5'\n",
      " '6' '0' '4' '1' '9' '5' '7' '8' '9' '3' '7' '4' '6' '4' '3' '0' '7' '0'\n",
      " '2' '9' '1' '7' '3' '2' '9' '7' '7' '6' '2' '7' '8' '4' '7' '3' '6' '1'\n",
      " '3' '6' '9' '3' '1' '4' '1' '7' '6' '9']\n",
      "Vérité terrain ['7' '2' '1' '0' '4' '1' '4' '9' '5' '9' '0' '6' '9' '0' '1' '5' '9' '7'\n",
      " '3' '4' '9' '6' '6' '5' '4' '0' '7' '4' '0' '1' '3' '1' '3' '4' '7' '2'\n",
      " '7' '1' '2' '1' '1' '7' '4' '2' '3' '5' '1' '2' '4' '4' '6' '3' '5' '5'\n",
      " '6' '0' '4' '1' '9' '5' '7' '8' '9' '3' '7' '4' '6' '4' '3' '0' '7' '0'\n",
      " '2' '9' '1' '7' '3' '2' '9' '7' '7' '6' '2' '7' '8' '4' '7' '3' '6' '1'\n",
      " '3' '6' '9' '3' '1' '4' '1' '7' '6' '9']\n"
     ]
    }
   ],
   "source": [
    "# Choix du nombre de voisins\n",
    "K = 1\n",
    "\n",
    "# Nombre de données à tester\n",
    "Nt=DataTest.shape[0]\n",
    "Nt_test = int(Nt/100); # A changer, pouvant aller jusqu'a Nt\n",
    "print(Nt_test)\n",
    "# Classement par aux k-ppv\n",
    "Partition = kppv(DataApp,DataTest,LabelApp,K,Nt_test)\n",
    "\n",
    "# Affichage des résultats de prédiction et de vérité terrainMatriceConfusion=np.zeros((10,10))\n",
    "print('Resultat Kppv', Partition.T[0])\n",
    "print('Vérité terrain',LabelTest[:Nt_test])"
   ]
  },
  {
   "cell_type": "markdown",
   "id": "seventh-merchandise",
   "metadata": {},
   "source": [
    "## Exercice 2 : évaluation de la reconnaissance\n",
    "\n",
    "En disposant des labels exacts des données de l'ensemble de test, l'évaluation de la bonne reconnaissance est réalisée par une matrice de confusion et par un taux d'erreur:\n",
    "- La matrice de confusion est une matrice $10\\times 10$ dont l'élément générique d'indice $(i,j)$ est le nombre de vecteurs de classe correspondant à l'indice $i$ qui ont été affectés à la classe correspondant à l'indice $j$ par le processus de décision. Si la matrice de confusion est diagonale alors la reconnaissance est parfaite.\n",
    "- le taux d'erreur correspond à un pourcentage défini par le nombre d'éléments hors diagonaux de la matrice de confusion divisé par le nombre total d'éléments testés.\n",
    "\n",
    "<img src=\"files/MatConfus.PNG\" width=\"600\" height=\"400\"  >\n"
   ]
  },
  {
   "cell_type": "markdown",
   "id": "prospective-buyer",
   "metadata": {},
   "source": [
    "**Question :**\n",
    "- En utilisant les labels de l'ensemble de test, complétez *kppv* afin de rajouter le calcul de la matrice de confusion et le taux d'erreur.\n",
    "- Testez l'algorithme pour $k=1$ et $k=10$ et calculez les taux d'erreur respectifs."
   ]
  },
  {
   "cell_type": "code",
   "execution_count": 98,
   "id": "included-transportation",
   "metadata": {},
   "outputs": [
    {
     "name": "stdout",
     "output_type": "stream",
     "text": [
      "Taux d'erreur :\n",
      "0.0\n",
      "Matrice de confusion :\n",
      "[[ 8  0  0  0  0  0  0  0  0  0]\n",
      " [ 0 14  0  0  0  0  0  0  0  0]\n",
      " [ 0  0  8  0  0  0  0  0  0  0]\n",
      " [ 0  0  0 11  0  0  0  0  0  0]\n",
      " [ 0  0  0  0 14  0  0  0  0  0]\n",
      " [ 0  0  0  0  0  7  0  0  0  0]\n",
      " [ 0  0  0  0  0  0 10  0  0  0]\n",
      " [ 0  0  0  0  0  0  0 15  0  0]\n",
      " [ 0  0  0  0  0  0  0  0  2  0]\n",
      " [ 0  0  0  0  0  0  0  0  0 11]]\n"
     ]
    }
   ],
   "source": [
    "from sklearn.metrics import confusion_matrix\n",
    "err_test = np.sum(LabelTest[:Nt_test] !=\n",
    "                  Partition.T[0])/len(LabelTest[:Nt_test])\n",
    "print(\"Taux d'erreur :\")\n",
    "print(err_test)\n",
    "print(\"Matrice de confusion :\")\n",
    "print(confusion_matrix(LabelTest[:Nt_test], Partition.T[0]))\n"
   ]
  }
 ],
 "metadata": {
  "kernelspec": {
   "display_name": "Python 3.10.8 64-bit",
   "language": "python",
   "name": "python3"
  },
  "language_info": {
   "codemirror_mode": {
    "name": "ipython",
    "version": 3
   },
   "file_extension": ".py",
   "mimetype": "text/x-python",
   "name": "python",
   "nbconvert_exporter": "python",
   "pygments_lexer": "ipython3",
   "version": "3.10.8"
  },
  "vscode": {
   "interpreter": {
    "hash": "28fbbd13cf38a3f94a4869dba00b3160543988681b14bce6017229e5c2fdfb5e"
   }
  }
 },
 "nbformat": 4,
 "nbformat_minor": 5
}
